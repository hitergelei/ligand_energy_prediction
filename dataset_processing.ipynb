{
 "cells": [
  {
   "cell_type": "markdown",
   "metadata": {},
   "source": [
    "# Dataset Processing"
   ]
  },
  {
   "cell_type": "markdown",
   "metadata": {},
   "source": [
    "## QM9\n",
    "Download dataset [here](https://figshare.com/collections/Quantum_chemistry_structures_and_properties_of_134_kilo_molecules/978904).\n",
    "\n",
    "The QM9 dataset is a widely used dataset and benchmark in computational chemistry and machine learning. It contains information about 134k small molecules composed of up to nine heavy atoms (CONF). Information includes the energy, entropy, and dipole moment.\n",
    "\n",
    "The files are provided in a pseudo .xyz format. \n",
    "\n",
    "The content of the files are shown as follows.\n",
    "\n",
    "| Line       | Content                                                                               \n",
    "|------------| --------------------------------------------------------------------------------------\n",
    "| 1          | Number of atoms na                                                                    |\n",
    "| 2          | Properties 1-17 (see below)                                                           |\n",
    "| 3,...,na+2 | Element type, coordinate (x,y,z) (Angstrom), and Mulliken partial charge (e) of atom  |\n",
    "| na+3       | Frequencies (3na-5 or 3na-6)                                                          |\n",
    "| na+4       | SMILES from GDB9 and for relaxed geometry                                             |\n",
    "| na+5       | InChI for GDB9 and for relaxed geometry                                               |\n",
    "\n",
    "\n",
    "The properties stored in the second line of each file:   \n",
    "| I. |Property | Unit        | Description                                         |\n",
    "|----|---------|-------------|-----------------------------------------------------|\n",
    "|  1 |tag      | -           | \"gdb9\"; string constant to ease extraction via grep |\n",
    "|  2 |index    | -           | Consecutive, 1-based integer identifier of molecule |\n",
    "|  3 |A        | GHz         | Rotational constant A                               |\n",
    "|  4 |B        | GHz         | Rotational constant B                               |\n",
    "|  5 |C        | GHz         | Rotational constant C                               |\n",
    "|  6 |mu       | Debye       | Dipole moment                                       |\n",
    "|  7 |alpha    | Bohr^3      | Isotropic polarizability                            |\n",
    "|  8 |homo     | Hartree     | Energy of Highest occupied molecular orbital (HOMO) |\n",
    "|  9 |lumo     | Hartree     | Energy of Lowest occupied molecular orbital (LUMO)  |\n",
    "| 10 |gap      | Hartree     | Gap, difference between LUMO and HOMO               |\n",
    "| 11 |r2       | Bohr^2      | Electronic spatial extent                           |\n",
    "| 12 |zpve     | Hartree     | Zero point vibrational energy                       |\n",
    "| 13 |U0       | Hartree     | Internal energy at 0 K                              |\n",
    "| 14 |U        | Hartree     | Internal energy at 298.15 K                         |\n",
    "| 15 |H        | Hartree     | Enthalpy at 298.15 K                                |\n",
    "| 16 |G        | Hartree     | Free energy at 298.15 K                             |\n",
    "| 17 |Cv       | cal/(mol K) | Heat capacity at 298.15 K                           |"
   ]
  },
  {
   "cell_type": "markdown",
   "metadata": {},
   "source": [
    "### Sample file: `dsgdb9nsd_000167.xyz`"
   ]
  },
  {
   "cell_type": "code",
   "execution_count": 11,
   "metadata": {},
   "outputs": [],
   "source": [
    "import os\n",
    "import json\n",
    "from tqdm import tqdm"
   ]
  },
  {
   "cell_type": "code",
   "execution_count": 12,
   "metadata": {},
   "outputs": [
    {
     "name": "stdout",
     "output_type": "stream",
     "text": [
      "8\n",
      "gdb 167\t10.29348\t9.86616\t5.03764\t2.79\t35.01\t-0.2705\t0.0059\t0.2764\t264.8693\t0.059902\t-242.205627\t-242.202078\t-242.201134\t-242.231775\t11.923\t\n",
      "N\t 0.0068637129\t 1.3543886388\t 0.0098030736\t-0.173898\n",
      "C\t 1.2877308849\t 1.7751224177\t-0.0006303393\t 0.035075\n",
      "N\t 2.1022228334\t 0.7378995984\t-0.014383726\t-0.258364\n",
      "C\t 1.2386759646\t-0.3171902112\t-0.011553585\t 0.044405\n",
      "N\t-0.0452811419\t 0.0014633793\t 0.0029412768\t-0.21032\n",
      "H\t-0.8459890948\t 1.8890884125\t 0.0211917297\t 0.283792\n",
      "H\t 1.569426308\t 2.8172545796\t 0.0022548317\t 0.148551\n",
      "H\t 1.5661064428\t-1.3457822952\t-0.0204190516\t 0.130759\n",
      "557.754\t684.8253\t702.9204\t854.5053\t912.0274\t960.2888\t993.3504\t1084.0514\t1147.0893\t1186.8149\t1278.9991\t1321.8153\t1392.6012\t1466.3028\t1557.0241\t3260.3955\t3266.2964\t3666.9581\n",
      "N1C=NC=N1\t[nH]1cncn1\t\n",
      "InChI=1S/C2H3N3/c1-3-2-5-4-1/h1-2H,(H,3,4,5)\tInChI=1S/C2H3N3/c1-3-2-5-4-1/h1-2H,(H,3,4,5)\n",
      "\n"
     ]
    }
   ],
   "source": [
    "f = open(\"QM9/dsgdb9nsd.xyz/dsgdb9nsd_000167.xyz\", \"r\")\n",
    "print(f.read())"
   ]
  },
  {
   "cell_type": "code",
   "execution_count": 13,
   "metadata": {},
   "outputs": [],
   "source": [
    "# Parse a single .xyz file\n",
    "def parse_qm9_entry(file):\n",
    "    folder = \"QM9/dsgdb9nsd.xyz/\"\n",
    "    filename = os.path.join(folder, file)\n",
    "    with open(filename, \"r\") as f:\n",
    "        lines = f.readlines()\n",
    "\n",
    "        # Number of atoms\n",
    "        num_atoms = int(lines[0].strip())\n",
    "\n",
    "        # Atoms\n",
    "        atoms = []\n",
    "        for i in range(2, 2+num_atoms):\n",
    "            atom_info = lines[i].strip().split('\\t')\n",
    "            try:\n",
    "                atoms.append({\"elem\": atom_info[0], \"coord\": (float(atom_info[1]), float(atom_info[2]), float(atom_info[3])), \"charge\": float(atom_info[4])})\n",
    "            except ValueError: # Notation uses 1.0*^-5 instead of 1.0e-5\n",
    "                for j in range(1, 5):\n",
    "                    atom_info[j] = atom_info[j].replace(\"*^\", \"e\")\n",
    "                atoms.append({\"elem\": atom_info[0], \"coord\": (float(atom_info[1]), float(atom_info[2]), float(atom_info[3])), \"charge\": float(atom_info[4])})\n",
    "\n",
    "        # Free energy\n",
    "        free_E = float(lines[1].strip().split('\\t')[-2])\n",
    "    \n",
    "    assert num_atoms == len(atoms)\n",
    "    return {\"file\": file, \"num_atoms\": num_atoms, \"atoms\": atoms, \"free_E\": free_E}\n"
   ]
  },
  {
   "cell_type": "code",
   "execution_count": 14,
   "metadata": {},
   "outputs": [
    {
     "name": "stdout",
     "output_type": "stream",
     "text": [
      "{'file': 'dsgdb9nsd_000167.xyz', 'num_atoms': 8, 'atoms': [{'elem': 'N', 'coord': (0.0068637129, 1.3543886388, 0.0098030736), 'charge': -0.173898}, {'elem': 'C', 'coord': (1.2877308849, 1.7751224177, -0.0006303393), 'charge': 0.035075}, {'elem': 'N', 'coord': (2.1022228334, 0.7378995984, -0.014383726), 'charge': -0.258364}, {'elem': 'C', 'coord': (1.2386759646, -0.3171902112, -0.011553585), 'charge': 0.044405}, {'elem': 'N', 'coord': (-0.0452811419, 0.0014633793, 0.0029412768), 'charge': -0.21032}, {'elem': 'H', 'coord': (-0.8459890948, 1.8890884125, 0.0211917297), 'charge': 0.283792}, {'elem': 'H', 'coord': (1.569426308, 2.8172545796, 0.0022548317), 'charge': 0.148551}, {'elem': 'H', 'coord': (1.5661064428, -1.3457822952, -0.0204190516), 'charge': 0.130759}], 'free_E': -242.231775}\n"
     ]
    }
   ],
   "source": [
    "print(parse_qm9_entry(\"dsgdb9nsd_000167.xyz\"))"
   ]
  },
  {
   "cell_type": "code",
   "execution_count": 15,
   "metadata": {},
   "outputs": [],
   "source": [
    "# Parse all QM9 files\n",
    "def parse_qm9():\n",
    "    folder = \"QM9/dsgdb9nsd.xyz/\"\n",
    "\n",
    "    dataset = []\n",
    "    files = os.listdir(folder)\n",
    "    for i in tqdm(range(len(files))):\n",
    "        dataset.append(parse_qm9_entry(files[i]))\n",
    "    return dataset"
   ]
  },
  {
   "cell_type": "code",
   "execution_count": 16,
   "metadata": {},
   "outputs": [
    {
     "name": "stderr",
     "output_type": "stream",
     "text": [
      "100%|██████████| 133885/133885 [00:28<00:00, 4759.00it/s]\n"
     ]
    }
   ],
   "source": [
    "qm9_dataset = parse_qm9()"
   ]
  },
  {
   "cell_type": "code",
   "execution_count": 17,
   "metadata": {},
   "outputs": [],
   "source": [
    "# Turns needed data into an easily usable JSON file\n",
    "qm9_json = json.dumps(qm9_dataset, indent=4)\n",
    "with open(\"qm9.json\", \"w\") as outfile:\n",
    "    outfile.write(qm9_json)"
   ]
  },
  {
   "cell_type": "markdown",
   "metadata": {},
   "source": [
    "# ANI-1"
   ]
  }
 ],
 "metadata": {
  "kernelspec": {
   "display_name": "cs224w_datasets",
   "language": "python",
   "name": "python3"
  },
  "language_info": {
   "codemirror_mode": {
    "name": "ipython",
    "version": 3
   },
   "file_extension": ".py",
   "mimetype": "text/x-python",
   "name": "python",
   "nbconvert_exporter": "python",
   "pygments_lexer": "ipython3",
   "version": "3.10.13"
  }
 },
 "nbformat": 4,
 "nbformat_minor": 2
}
